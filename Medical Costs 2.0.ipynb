{
 "cells": [
  {
   "cell_type": "markdown",
   "id": "fe6f556a",
   "metadata": {},
   "source": [
    "# Project: U.S. Medical Costs"
   ]
  },
  {
   "cell_type": "markdown",
   "id": "b61c0f31",
   "metadata": {},
   "source": [
    "In this project, we will investigate smoking in the United States. We will use data and directions provided by Codecademy; the original data can be found [here](https://www.kaggle.com/mirichoi0218/insurance). The analysis will not include visualization or additional libraries (other than ```csv```, to import the data). The purpose of this project is to cement basic Python skills, including: data processing, use of lists, libraries, functions/methods, and classes.\n",
    "\n",
    "We will investigate the following questions:\n",
    "\n",
    "- *Do smokers differ from nonsmokers?*\n",
    "    - Their average age and age range?\n",
    "    - Their average BMI?\n",
    "    - Their average number of children?\n",
    "    - The percentage of men and women?\n",
    "- *What is the effect of smoking on insurance costs?*\n",
    "    - What is the average annual insurance charge of people who smoke vs people who don't?\n",
    "- *Are there regional differences in smoking incidence*?\n",
    "    - Is the percentage of smokers higher in one region versus others?"
   ]
  },
  {
   "cell_type": "code",
   "execution_count": 1,
   "id": "6f82abee",
   "metadata": {},
   "outputs": [],
   "source": [
    "import csv"
   ]
  },
  {
   "cell_type": "markdown",
   "id": "682f8da1",
   "metadata": {},
   "source": [
    "First, we import the CSV using a helper function that stores all information in separate lists."
   ]
  },
  {
   "cell_type": "code",
   "execution_count": 464,
   "id": "c910ebc2",
   "metadata": {},
   "outputs": [],
   "source": [
    "list_age = []\n",
    "list_sex = []\n",
    "list_bmi = []\n",
    "list_children = []\n",
    "list_smoker = []\n",
    "list_region = []\n",
    "list_charges = []\n",
    "\n",
    "def get_data(filename, list_name, column):\n",
    "    with open(filename, \"r\") as insurance:\n",
    "        reader = csv.DictReader(insurance)\n",
    "        for row in reader:\n",
    "            list_name.append(row[column])\n",
    "\n",
    "get_data(\"insurance.csv\", list_age, \"age\")\n",
    "get_data(\"insurance.csv\", list_sex, \"sex\")\n",
    "get_data(\"insurance.csv\", list_bmi, \"bmi\")\n",
    "get_data(\"insurance.csv\", list_children, \"children\")\n",
    "get_data(\"insurance.csv\", list_smoker, \"smoker\")\n",
    "get_data(\"insurance.csv\", list_region, \"region\")\n",
    "get_data(\"insurance.csv\", list_charges, \"charges\")"
   ]
  },
  {
   "cell_type": "markdown",
   "id": "ff556d18",
   "metadata": {},
   "source": [
    "# Our data set\n",
    "Our data has the following variables:\n",
    "- ```age```: a person's age, in years.\n",
    "- ```sex```: a person's sex. In this dataset, it is either ```'female'``` or ```'male'```.\n",
    "- ```bmi```: a person's bmi. Presented with one decimal. \n",
    "- ```children```: a person's number of children.\n",
    "- ```smoker```: whether a person smokes or not. In this data set is is either ```'yes'``` or ```'no'```.\n",
    "- ```region```: the region where a person lives. In this data set, it is one of four regions: ```'northwest'```, ```'southwest'```, ```'northeast'``` and ```'southeast'```.\n",
    "- ```charges```: a person's annual insurance charge, presented with several decimals.\n",
    "\n",
    "\n",
    "# Data processing\n",
    "\n",
    "To process the data, we create a ```Patient``` class and we store all the data in this class for easy access. \n",
    "\n",
    "The ```Patient``` class contains the following methods:\n",
    "\n",
    "- ```get_average```: Takes an argument. Returns the average of the argument passed to the function.\n",
    "- ```analyze_sexes```: Analyzes the genders found in the data and returns the number of people reporting each gender in the data, in a dictionary.\n",
    "- ```has_children```: Returns a tuple with the number of people who have at least one child, and the number of people who do not.\n",
    "- ```unique_regions```: Returns a list of all unique regions found in the data.\n",
    "- ```count_regions_dict```: Returns a dictionary with the unique regions in the data and the number of people represented.\n",
    "- ```create_dictionary```: Converts the data into a dictionary for further use.\n",
    "- ```smoker_dictionary```: Returns a nested dictionary that contains separate data for smokers and nonsmokers.\n",
    "- ```analyze_smoker```: Returns a dictionary with separate summary data for smokers and nonsmokers. \n",
    "- ```analyze_regions_smokers```: Returns a dictionary using each unique region as a key, and the number of smokers, the number of nonsmokers, and the percentage of smokers as values."
   ]
  },
  {
   "cell_type": "code",
   "execution_count": 576,
   "id": "b03b5b50",
   "metadata": {},
   "outputs": [],
   "source": [
    "class Patient:\n",
    "\n",
    "    def __init__(self, pt_age, pt_sex, pt_bmi, pt_children, pt_smoker, pt_region, pt_charges):\n",
    "        self.age = pt_age\n",
    "        self.sex = pt_sex\n",
    "        self.bmi = pt_bmi\n",
    "        self.children = pt_children\n",
    "        self.smoker = pt_smoker\n",
    "        self.region = pt_region\n",
    "        self.charges = pt_charges\n",
    "        \n",
    "    def get_average(self, variable):\n",
    "        total = 0\n",
    "        for row in variable:\n",
    "            total += float(row)\n",
    "        return total / len(variable)\n",
    "    \n",
    "    def analyze_sexes(self):\n",
    "        keys = list(set(self.sex))\n",
    "        return {key:self.sex.count(key) for key in keys for person in self.sex}\n",
    "    \n",
    "    def has_children(self):\n",
    "        self.has_child_num = 0\n",
    "        self.has_no_child_num = 0\n",
    "        for entry in self.children:\n",
    "            if float(entry) > 0:\n",
    "                self.has_child_num += 1\n",
    "            else:\n",
    "                self.has_no_child_num += 1\n",
    "        return self.has_child_num, self.has_no_child_num\n",
    "    \n",
    "    def unique_regions(self):\n",
    "        self.unique_regions_list = []\n",
    "        for region in self.region:\n",
    "            if not region in self.unique_regions_list:\n",
    "                self.unique_regions_list.append(region)\n",
    "            else:\n",
    "                continue\n",
    "        return self.unique_regions_list\n",
    "    \n",
    "    def count_regions_dict(self):\n",
    "        region_list = [row for row in self.region]\n",
    "        keys = self.unique_regions()\n",
    "        return {key:region_list.count(key) for key in keys for region in region_list}\n",
    "                \n",
    "    def create_dictionary(self):\n",
    "        self.dictionary = {}\n",
    "        self.dictionary[\"Age\"] = [int(age) for age in self.age]\n",
    "        self.dictionary[\"Sex\"] = self.sex\n",
    "        self.dictionary[\"BMI\"] = [float(bmi) for bmi in self.bmi]\n",
    "        self.dictionary[\"Children\"] = [int(child) for child in self.children]\n",
    "        self.dictionary[\"Smoker\"] = self.smoker\n",
    "        self.dictionary[\"Region\"] = self.region\n",
    "        self.dictionary[\"Charges\"] = [float(charge) for charge in self.charges]\n",
    "        return self.dictionary\n",
    "    \n",
    "    def smoker_dictionary(self):\n",
    "        self.zipper = list(zip(self.smoker, self.age, self.sex, self.bmi, self.children, self.region, self.charges))\n",
    "        self.smoker_dict = {\"Smokers\":\n",
    "                      {\"Age\": [row[1] for row in self.zipper if row[0] == \"yes\"],\n",
    "                      \"Sex\": [row[2] for row in self.zipper if row[0] == \"yes\"],\n",
    "                       \"BMI\": [row[3] for row in self.zipper if row[0] == \"yes\"],\n",
    "                      \"Children\": [row[4] for row in self.zipper if row[0] == \"yes\"],\n",
    "                       \"Region\": [row[5] for row in self.zipper if row[0] == \"yes\"],\n",
    "                       \"Charges\": [row[6] for row in self.zipper if row[0] == \"yes\"]},\n",
    "                      \"Nonsmokers\": \n",
    "                       {\"Age\": [row[1] for row in self.zipper if row[0] == \"no\"],\n",
    "                      \"Sex\": [row[2] for row in self.zipper if row[0] == \"no\"],\n",
    "                        \"BMI\": [row[3] for row in self.zipper if row[0] == \"no\"],\n",
    "                      \"Children\": [row[4] for row in self.zipper if row[0] == \"no\"],\n",
    "                       \"Region\": [row[5] for row in self.zipper if row[0] == \"no\"],\n",
    "                       \"Charges\": [row[6] for row in self.zipper if row[0] == \"no\"]}}\n",
    "        return self.smoker_dict\n",
    "        \n",
    "    def analyze_smoker(self):\n",
    "        dict_smokers = self.smoker_dictionary()\n",
    "        return {\"Smokers\": \n",
    "                {\"Average age\": self.get_average(dict_smokers[\"Smokers\"][\"Age\"]),\n",
    "                 \"Age range in data\": \"{} - {}\".format(min(dict_smokers[\"Smokers\"][\"Age\"]), \n",
    "                                               max(dict_smokers[\"Smokers\"][\"Age\"])),\n",
    "                 \"Percentage male\": dict_smokers[\"Smokers\"][\"Sex\"].count(\"male\") / \n",
    "                 len(dict_smokers[\"Smokers\"][\"Sex\"]) * 100,\n",
    "                \"Average BMI\": self.get_average(dict_smokers[\"Smokers\"][\"BMI\"]),\n",
    "                \"Average number of children\": self.get_average(dict_smokers[\"Smokers\"][\"Children\"]),\n",
    "                \"Average charges\": self.get_average(dict_smokers[\"Smokers\"][\"Charges\"]),\n",
    "                 },\n",
    "               \"Nonsmokers\":\n",
    "                {\"Average age\": self.get_average(dict_smokers[\"Nonsmokers\"][\"Age\"]),\n",
    "                \"Age range in data\": \"{} - {}\".format(min(dict_smokers[\"Nonsmokers\"][\"Age\"]), \n",
    "                                               max(dict_smokers[\"Nonsmokers\"][\"Age\"])),\n",
    "                 \"Percentage male\": dict_smokers[\"Nonsmokers\"][\"Sex\"].count(\"male\") / \n",
    "                 len(dict_smokers[\"Nonsmokers\"][\"Sex\"]) * 100,\n",
    "                \"Average BMI\": self.get_average(dict_smokers[\"Nonsmokers\"][\"BMI\"]),\n",
    "                \"Average number of children\": self.get_average(dict_smokers[\"Nonsmokers\"][\"Children\"]),\n",
    "                \"Average charges\": self.get_average(dict_smokers[\"Nonsmokers\"][\"Charges\"])}\n",
    "               }\n",
    "\n",
    "    def analyze_regions_smokers(self):\n",
    "        regions = self.unique_regions()\n",
    "        dictionary = self.smoker_dictionary()\n",
    "        return {region:\n",
    "                {\"Smokers\": dictionary[\"Smokers\"][\"Region\"].count(region),\n",
    "                 \"Nonsmokers\": dictionary[\"Nonsmokers\"][\"Region\"].count(region),\n",
    "                \"Percentage smokers\": dictionary[\"Smokers\"][\"Region\"].count(region) /\n",
    "                 (dictionary[\"Smokers\"][\"Region\"].count(region) + \n",
    "                  dictionary[\"Nonsmokers\"][\"Region\"].count(region)) * 100} \n",
    "                for region in regions}\n",
    "        \n",
    "patient = Patient(list_age, list_sex, list_bmi, list_children, list_smoker, list_region, list_charges)\n",
    "dict_data = patient.create_dictionary()"
   ]
  },
  {
   "cell_type": "markdown",
   "id": "75600289",
   "metadata": {},
   "source": [
    "# Exploring the data\n",
    "\n",
    "First, we look at the data to obtain information about the sample as a whole."
   ]
  },
  {
   "cell_type": "code",
   "execution_count": 578,
   "id": "eafe8884",
   "metadata": {},
   "outputs": [
    {
     "data": {
      "text/plain": [
       "{'female': 662, 'male': 676}"
      ]
     },
     "execution_count": 578,
     "metadata": {},
     "output_type": "execute_result"
    }
   ],
   "source": [
    "patient.analyze_sexes()"
   ]
  },
  {
   "cell_type": "markdown",
   "id": "f3b3fe3f",
   "metadata": {},
   "source": [
    "There are 662 female people in the data set and 676 male people. Thus, in this sample, there are 1338 entries; 49.5% female, 50.5% male."
   ]
  },
  {
   "cell_type": "code",
   "execution_count": 585,
   "id": "ce54472e",
   "metadata": {},
   "outputs": [
    {
     "data": {
      "text/plain": [
       "39.2"
      ]
     },
     "execution_count": 585,
     "metadata": {},
     "output_type": "execute_result"
    }
   ],
   "source": [
    "round(patient.get_average(list_age), 1)"
   ]
  },
  {
   "cell_type": "markdown",
   "id": "273dbf3e",
   "metadata": {},
   "source": [
    "The average age of the people in the sample is 39.2 years old. Given that the median age of people in the U.S. is about [38 years old](https://datacommons.org/place/country/USA?utm_medium=explore&mprop=age&popt=Person&hl=en), based on this average, the data seems to be representative. However, further investigation would be necessary to be more certain."
   ]
  },
  {
   "cell_type": "code",
   "execution_count": 584,
   "id": "f9a32876",
   "metadata": {},
   "outputs": [
    {
     "data": {
      "text/plain": [
       "'People with children: 764. People without children: 574'"
      ]
     },
     "execution_count": 584,
     "metadata": {},
     "output_type": "execute_result"
    }
   ],
   "source": [
    "\"People with children: {}. People without children: {}\".format(patient.has_children()[0], \n",
    "                                                               patient.has_children()[1])"
   ]
  },
  {
   "cell_type": "markdown",
   "id": "4c48cff2",
   "metadata": {},
   "source": [
    "There are 764 people in the sample who have children; 574 who do not. The fact that the majority of people in the sample have at least one child, is plausible for the average age of the people in the data set. In a younger sample (e.g., high school students), one might expect that there would be more people who don't have a child."
   ]
  },
  {
   "cell_type": "code",
   "execution_count": 587,
   "id": "e56edd87",
   "metadata": {},
   "outputs": [
    {
     "data": {
      "text/plain": [
       "30.7"
      ]
     },
     "execution_count": 587,
     "metadata": {},
     "output_type": "execute_result"
    }
   ],
   "source": [
    "round(patient.get_average(list_bmi), 1)"
   ]
  },
  {
   "cell_type": "markdown",
   "id": "8f617363",
   "metadata": {},
   "source": [
    "The average BMI in this data set is 30.7, which would be classified as [Obese, Class I](https://www.cdc.gov/obesity/adult/defining.html). It is possible, however, that this number is greatly influenced by outliers; we should be careful to interpret this figure entirely on its own. For example, according to data from a 2015 World Health Organization report, the average U.S. BMI was reported to be [28.5](https://en.wikipedia.org/wiki/List_of_countries_by_body_mass_index#cite_note-1). The number found here is somewhat higher than that average."
   ]
  },
  {
   "cell_type": "code",
   "execution_count": 235,
   "id": "3f7c9d81",
   "metadata": {},
   "outputs": [
    {
     "data": {
      "text/plain": [
       "{'southwest': 325, 'southeast': 364, 'northwest': 325, 'northeast': 324}"
      ]
     },
     "execution_count": 235,
     "metadata": {},
     "output_type": "execute_result"
    }
   ],
   "source": [
    "patient.count_regions_dict()"
   ]
  },
  {
   "cell_type": "markdown",
   "id": "8c126d82",
   "metadata": {},
   "source": [
    "The data contains four regions; entries are more or less uniformly distributed across the United States. \n",
    "\n",
    "This might indicate that some areas could be overrepresented; for example, the northeast region of the U.S. is far more densely populated than the northwest, but that does not show in this data."
   ]
  },
  {
   "cell_type": "code",
   "execution_count": 540,
   "id": "4e4681f4",
   "metadata": {},
   "outputs": [
    {
     "name": "stdout",
     "output_type": "stream",
     "text": [
      "274\n",
      "1064\n"
     ]
    }
   ],
   "source": [
    "smoker = patient.smoker_dictionary()\n",
    "\n",
    "print(len(smoker[\"Smokers\"][\"Age\"]))\n",
    "print(len(smoker[\"Nonsmokers\"][\"Age\"]))"
   ]
  },
  {
   "cell_type": "markdown",
   "id": "f5b94f05",
   "metadata": {},
   "source": [
    "There are 274 smokers in the sample and 1064 nonsmokers. \n",
    "\n",
    "Using the ```analyze_smoker()``` method, we can investigate differences between smokers and nonsmokers:"
   ]
  },
  {
   "cell_type": "code",
   "execution_count": 575,
   "id": "0207a706",
   "metadata": {},
   "outputs": [
    {
     "data": {
      "text/plain": [
       "{'Smokers': {'Average age': 38.51459854014598,\n",
       "  'Age range in data': '18 - 64',\n",
       "  'Percentage male': 58.02919708029197,\n",
       "  'Average BMI': 30.708448905109503,\n",
       "  'Average number of children': 1.1131386861313868,\n",
       "  'Average charges': 32050.23183153285},\n",
       " 'Nonsmokers': {'Average age': 39.38533834586466,\n",
       "  'Age range in data': '18 - 64',\n",
       "  'Percentage male': 48.59022556390977,\n",
       "  'Average BMI': 30.651795112781922,\n",
       "  'Average number of children': 1.0902255639097744,\n",
       "  'Average charges': 8434.268297856199}}"
      ]
     },
     "execution_count": 575,
     "metadata": {},
     "output_type": "execute_result"
    }
   ],
   "source": [
    "patient.analyze_smoker()"
   ]
  },
  {
   "cell_type": "markdown",
   "id": "6d57cc7f",
   "metadata": {},
   "source": [
    "From our analysis above, we can conclude that smokers and nonsmokers are highly similar in most demographic characteristics in our sample. \n",
    "\n",
    "\n",
    "**Age**: The average ages of smokers and nonsmokers are highly similar, although nonsmokers in the sample tend to be slightly older, on average. The age ranges are the same, though it is possible that the distribution of ages is not exactly the same in the two groups.\n",
    "\n",
    "**Sex**: Among the smokers, the percentage of men is higher than among the nonsmokers. \n",
    "\n",
    "\n",
    "**BMI**: The average BMIs of smokers and nonsmokers in the sample are also nearly the same. \n",
    "\n",
    "\n",
    "**Children**: The average number of children is the same for smokers as for nonsmokers.\n",
    "\n",
    "\n",
    "**Annual Charges**: The average charges paid by smokers vs nonsmokers, however, are very different. Smokers pay almost four times more charges, annually. Without more information about the data source, it is difficult to say why. One possibility is that people who smoke may encounter more medical issues than people who do not, and therefore need to pay higher insurance costs. If we wanted to investigate this issue further, we could create segments in the data for each age group and see whether charges differ for smokers vs nonsmokers in each group. Since health issues associated with smoking tend to occur at later ages, we could check whether smokers pay more than nonsmokers in the same age group."
   ]
  },
  {
   "cell_type": "code",
   "execution_count": 577,
   "id": "6ead7b87",
   "metadata": {},
   "outputs": [
    {
     "data": {
      "text/plain": [
       "{'southwest': {'Smokers': 58,\n",
       "  'Nonsmokers': 267,\n",
       "  'Percentage smokers': 17.846153846153847},\n",
       " 'southeast': {'Smokers': 91, 'Nonsmokers': 273, 'Percentage smokers': 25.0},\n",
       " 'northwest': {'Smokers': 58,\n",
       "  'Nonsmokers': 267,\n",
       "  'Percentage smokers': 17.846153846153847},\n",
       " 'northeast': {'Smokers': 67,\n",
       "  'Nonsmokers': 257,\n",
       "  'Percentage smokers': 20.679012345679013}}"
      ]
     },
     "execution_count": 577,
     "metadata": {},
     "output_type": "execute_result"
    }
   ],
   "source": [
    "patient.analyze_regions_smokers()"
   ]
  },
  {
   "cell_type": "markdown",
   "id": "2f79e516",
   "metadata": {},
   "source": [
    "From the data above, we can conclude that smoking is (by far) most common in the southeast region of the U.S., followed by the northeast. Smoking is relatively less common in both western regions of the U.S.."
   ]
  },
  {
   "cell_type": "markdown",
   "id": "16aabf65",
   "metadata": {},
   "source": [
    "# Conclusions\n",
    "\n",
    "Regarding our questions, from this data, we can conclude the following:\n",
    "\n",
    "- *Do smokers differ from nonsmokers (age, age range, BMI, number of children, men/women)?*\n",
    "\n",
    "We can conclude that smokers and nonsmokers (in this sample, at least) are similar in terms of age, age range, average BMI, and average number of children. Amongst smokers, the percentage of men is somewhat higher than amongst nonsmokers. \n",
    "\n",
    "\n",
    "\n",
    "- *What is the effect of smoking on insurance costs?*\n",
    "\n",
    "The annual insurance charges of smokers are about four times higher than those of nonsmokers. \n",
    "\n",
    "\n",
    "\n",
    "- *Are there regional differences in smoking incidence*?\n",
    "\n",
    "Amongst people living in the southeast region of the United States, smoking is relatively common (25%), compared to the northeast (20.7%), northwest (17.8%) and the southwest (17.8%) regions of the country."
   ]
  },
  {
   "cell_type": "markdown",
   "id": "00d7598a",
   "metadata": {},
   "source": [
    "# Suggestions\n",
    "\n",
    "Based on what we learned from the current data, we might be interested in the following further exploration of this data:\n",
    "\n",
    "- Build a model to predict insurance cost, and based on this model, find recommendations for individuals to lower their annual insurance cost.\n",
    "- Investigate the interaction of different demographic variables. For example, does age play a role in gender differences regarding smoking? In other words, do gender differences in smoking change as people get older?\n",
    "- Analyze smoking charges for smokers vs nonsmokers further. In particular, find out how the discrepancy between smokers and nonsmokers develops over time. Do smokers always have a higher insurance cost, or does this perhaps co-occur with medical issues that develop over time as a result of smoking?\n",
    "- The current data only allows us to compare groups cross-sectionally (that is, look at differences between people at a fixed point in time). It would be very interesting to track individuals, their demographic characteristics, and their insurance charges over time. Using data from one point in time, we might try to predict, for example, whether someone will start smoking at a later point in time."
   ]
  },
  {
   "cell_type": "code",
   "execution_count": null,
   "id": "b7fb69eb",
   "metadata": {},
   "outputs": [],
   "source": []
  }
 ],
 "metadata": {
  "kernelspec": {
   "display_name": "Python 3",
   "language": "python",
   "name": "python3"
  },
  "language_info": {
   "codemirror_mode": {
    "name": "ipython",
    "version": 3
   },
   "file_extension": ".py",
   "mimetype": "text/x-python",
   "name": "python",
   "nbconvert_exporter": "python",
   "pygments_lexer": "ipython3",
   "version": "3.7.2"
  }
 },
 "nbformat": 4,
 "nbformat_minor": 5
}
